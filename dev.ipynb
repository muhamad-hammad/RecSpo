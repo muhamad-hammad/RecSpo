{
  "nbformat": 4,
  "nbformat_minor": 0,
  "metadata": {
    "colab": {
      "provenance": [],
      "authorship_tag": "ABX9TyMnC8aWRa0cve+BOz0lqOAH",
      "include_colab_link": true
    },
    "kernelspec": {
      "name": "python3",
      "display_name": "Python 3"
    },
    "language_info": {
      "name": "python"
    }
  },
  "cells": [
    {
      "cell_type": "markdown",
      "metadata": {
        "id": "view-in-github",
        "colab_type": "text"
      },
      "source": [
        "<a href=\"https://colab.research.google.com/github/muhamad-hammad/RecSpo/blob/main/main.ipynb\" target=\"_parent\"><img src=\"https://colab.research.google.com/assets/colab-badge.svg\" alt=\"Open In Colab\"/></a>"
      ]
    },
    {
      "cell_type": "code",
      "execution_count": null,
      "metadata": {
        "id": "BfEpeim-R00O"
      },
      "outputs": [],
      "source": [
        "import streamlit as st\n",
        "from spotipy.oauth2 import SpotifyClientCredentials\n",
        "import spotipy\n",
        "\n",
        "# Load credentials from Streamlit secrets\n",
        "client_id = st.secrets[\"spotify\"][\"client_id\"]\n",
        "client_secret = st.secrets[\"spotify\"][\"client_secret\"]\n",
        "\n",
        "# Authenticate using client credentials flow\n",
        "sp = spotipy.Spotify(auth_manager=SpotifyClientCredentials(\n",
        "    client_id=client_id,\n",
        "    client_secret=client_secret\n",
        "))\n"
      ]
    }
  ]
}